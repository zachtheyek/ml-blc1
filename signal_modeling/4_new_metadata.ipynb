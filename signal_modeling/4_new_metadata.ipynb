{
 "cells": [
  {
   "cell_type": "code",
   "execution_count": 1,
   "metadata": {},
   "outputs": [
    {
     "name": "stderr",
     "output_type": "stream",
     "text": [
      "bshuf filter already loaded, skip it.\n",
      "zfp filter already loaded, skip it.\n"
     ]
    }
   ],
   "source": [
    "%load_ext autoreload\n",
    "%autoreload 2\n",
    "\n",
    "%matplotlib inline\n",
    "import matplotlib.pyplot as plt\n",
    "import numpy as np\n",
    "import setigen as stg\n",
    "from astropy import units as u\n",
    "import blimpy as bl\n",
    "from astropy.time import Time\n",
    "import extract_signals as es"
   ]
  },
  {
   "cell_type": "code",
   "execution_count": 8,
   "metadata": {},
   "outputs": [
    {
     "name": "stderr",
     "output_type": "stream",
     "text": [
      "  0%|          | 0/17 [00:00<?, ?it/s]"
     ]
    },
    {
     "name": "stdout",
     "output_type": "stream",
     "text": [
      "Generating ts_info...\n",
      "blimpy.io.base_reader INFO     Skipping loading data ...\n",
      "blimpy.io.base_reader INFO     Skipping loading data ...\n",
      "blimpy.io.base_reader INFO     Skipping loading data ...\n",
      "blimpy.io.base_reader INFO     Skipping loading data ...\n",
      "blimpy.io.base_reader INFO     Skipping loading data ...\n",
      "blimpy.io.base_reader INFO     Skipping loading data ...\n",
      "blimpy.io.base_reader INFO     Skipping loading data ...\n",
      "blimpy.io.base_reader INFO     Skipping loading data ...\n",
      "blimpy.io.base_reader INFO     Skipping loading data ...\n",
      "blimpy.io.base_reader INFO     Skipping loading data ...\n",
      "blimpy.io.base_reader INFO     Skipping loading data ...\n",
      "blimpy.io.base_reader INFO     Skipping loading data ...\n"
     ]
    },
    {
     "name": "stderr",
     "output_type": "stream",
     "text": [
      " 71%|███████   | 12/17 [00:00<00:00, 115.97it/s]"
     ]
    },
    {
     "name": "stdout",
     "output_type": "stream",
     "text": [
      "blimpy.io.base_reader INFO     Skipping loading data ...\n",
      "blimpy.io.base_reader INFO     Skipping loading data ...\n",
      "blimpy.io.base_reader INFO     Skipping loading data ...\n",
      "blimpy.io.base_reader INFO     Skipping loading data ...\n",
      "blimpy.io.base_reader INFO     Skipping loading data ...\n"
     ]
    },
    {
     "name": "stderr",
     "output_type": "stream",
     "text": [
      "100%|██████████| 17/17 [00:00<00:00, 116.06it/s]"
     ]
    },
    {
     "name": "stdout",
     "output_type": "stream",
     "text": [
      "\n",
      "Generating intensity_data...\n",
      "blimpy.io.base_reader INFO     Skipping loading data ...\n"
     ]
    },
    {
     "name": "stderr",
     "output_type": "stream",
     "text": [
      "\n",
      "62it [04:31,  4.38s/it]\n"
     ]
    }
   ],
   "source": [
    "es.generate_analysis_products()"
   ]
  },
  {
   "cell_type": "code",
   "execution_count": null,
   "metadata": {},
   "outputs": [],
   "source": []
  }
 ],
 "metadata": {
  "kernelspec": {
   "display_name": "Python (bl_tf)",
   "language": "python",
   "name": "ml"
  },
  "language_info": {
   "codemirror_mode": {
    "name": "ipython",
    "version": 3
   },
   "file_extension": ".py",
   "mimetype": "text/x-python",
   "name": "python",
   "nbconvert_exporter": "python",
   "pygments_lexer": "ipython3",
   "version": "3.8.3"
  }
 },
 "nbformat": 4,
 "nbformat_minor": 4
}
